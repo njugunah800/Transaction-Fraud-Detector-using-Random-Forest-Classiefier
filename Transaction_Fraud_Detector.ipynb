{
  "nbformat": 4,
  "nbformat_minor": 0,
  "metadata": {
    "colab": {
      "provenance": [],
      "authorship_tag": "ABX9TyMobyrmRF2mefs12LzDw4LE",
      "include_colab_link": true
    },
    "kernelspec": {
      "name": "python3",
      "display_name": "Python 3"
    },
    "language_info": {
      "name": "python"
    }
  },
  "cells": [
    {
      "cell_type": "markdown",
      "metadata": {
        "id": "view-in-github",
        "colab_type": "text"
      },
      "source": [
        "<a href=\"https://colab.research.google.com/github/njugunah800/Transaction-Fraud-Detector-using-Random-Forest-Classiefier/blob/main/Transaction_Fraud_Detector.ipynb\" target=\"_parent\"><img src=\"https://colab.research.google.com/assets/colab-badge.svg\" alt=\"Open In Colab\"/></a>"
      ]
    },
    {
      "cell_type": "code",
      "execution_count": null,
      "metadata": {
        "colab": {
          "base_uri": "https://localhost:8080/"
        },
        "id": "BjODlT5UrDPO",
        "outputId": "9bd4bc2f-ba17-4b6d-faeb-1f0cc86c3066"
      },
      "outputs": [
        {
          "output_type": "stream",
          "name": "stdout",
          "text": [
            "Transaction Amount: 25100 - Status: Fraudulent\n",
            "Transaction Amount: 170 - Status: Legitimate\n",
            "Transaction Amount: 190 - Status: Legitimate\n"
          ]
        },
        {
          "output_type": "stream",
          "name": "stderr",
          "text": [
            "/usr/local/lib/python3.10/dist-packages/sklearn/base.py:493: UserWarning: X does not have valid feature names, but RandomForestClassifier was fitted with feature names\n",
            "  warnings.warn(\n"
          ]
        }
      ],
      "source": [
        "import numpy as np\n",
        "import pandas as pd\n",
        "from sklearn.ensemble import RandomForestClassifier\n",
        "from sklearn.model_selection import train_test_split\n",
        "\n",
        "# Step 1: Create sample transaction data\n",
        "data = {\n",
        "    'amount': [100, 150, 200, 300, 400, 500, 1500],\n",
        "    'is_fraud': [0, 0, 0, 0, 1, 1, 1]  # 1 indicates fraud, 0 indicates legitimate\n",
        "}\n",
        "\n",
        "df = pd.DataFrame(data)\n",
        "\n",
        "# Step 2: Prepare the data for training\n",
        "X = df[['amount']]  # Features\n",
        "y = df['is_fraud']  # Target variable (fraud label)\n",
        "X_train, X_test, y_train, y_test = train_test_split(X, y, test_size=0.2, random_state=42)\n",
        "\n",
        "# Step 3: Train a Random Forest classifier\n",
        "model = RandomForestClassifier()\n",
        "model.fit(X_train, y_train)\n",
        "\n",
        "# Step 4: Simulate generating transactions that could evade detection\n",
        "# For example, an attacker might try amounts that are close to legitimate ones\n",
        "generated_transactions = np.array([[25100], [170], [190]])\n",
        "\n",
        "# Step 5: Predict if the generated transactions would be classified as fraud or legitimate\n",
        "predictions = model.predict(generated_transactions)\n",
        "\n",
        "# Output the results\n",
        "for amount, prediction in zip(generated_transactions, predictions):\n",
        "    status = \"Fraudulent\" if prediction == 1 else \"Legitimate\"\n",
        "    print(f\"Transaction Amount: {amount[0]} - Status: {status}\")\n"
      ]
    }
  ]
}